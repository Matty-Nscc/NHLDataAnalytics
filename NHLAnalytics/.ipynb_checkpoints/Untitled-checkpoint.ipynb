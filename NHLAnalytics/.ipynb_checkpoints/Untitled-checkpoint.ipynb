{
 "cells": [
  {
   "cell_type": "code",
   "execution_count": 1,
   "id": "ee93345a",
   "metadata": {},
   "outputs": [],
   "source": [
    "import pandas as pd\n",
    "import pyodbc\n",
    "import matplotlib.pyplot as plt\n",
    "import numpy as np\n",
    "server = \"DESKTOP-T06C5FR\\SQL2019DEV\"\n",
    "database = \"NHLData\"\n",
    "username = \"sa\"\n",
    "password = \"CounterPoint8\"\n",
    "connectionString = \"DRIVER={ODBC Driver 17 for SQL Server};SERVER=\"+server+\";DATABASE=\"+database+\";UID=\"+username+\";PWD=\"+password"
   ]
  },
  {
   "cell_type": "code",
   "execution_count": 44,
   "id": "8eef8afb",
   "metadata": {},
   "outputs": [
    {
     "data": {
      "text/plain": [
       "array([   0.        ,  399.66666667,  799.33333333, 1199.        ])"
      ]
     },
     "execution_count": 44,
     "metadata": {},
     "output_type": "execute_result"
    }
   ],
   "source": [
    "cnxn = pyodbc.connect(connectionString)\n",
    "df = pd.read_sql_query(\"SELECT G.SeasonID, GP.Period, GP.PeriodTime, GPG.EmptyNet FROM dbo.Games G INNER JOIN dbo.GamePlays GP ON G.GameID = GP.GameID INNER JOIN GamePlayGoals GPG ON GP.GamePlayID = GPG.GamePlayID WHERE G.GameType = 'R'\", con=cnxn)\n",
    "\n",
    "#df.describe(include=\"all\")\n",
    "bins = np.linspace(min(df[\"PeriodTime\"]), max(df[\"PeriodTime\"]), 4)\n",
    "bins\n",
    "#group_names = [\"Low\",\"Medium\", \"High\"]\n",
    "#df[\"PeriodTimeBins\"] = pd.cut(df[\"PeriodTime\"], bins, labels=group_names, include_lowest=True)\n",
    "\n",
    "#count = df[[\"PeriodTimeBins\"]].value_counts()\n",
    "#count.rename(columns={\"Period\":\"value_counts\"}, inplace=True)\n",
    "#count.index.name=\"Period\"\n",
    "#count"
   ]
  },
  {
   "cell_type": "code",
   "execution_count": 5,
   "id": "82e77f5d",
   "metadata": {},
   "outputs": [
    {
     "data": {
      "text/html": [
       "<div>\n",
       "<style scoped>\n",
       "    .dataframe tbody tr th:only-of-type {\n",
       "        vertical-align: middle;\n",
       "    }\n",
       "\n",
       "    .dataframe tbody tr th {\n",
       "        vertical-align: top;\n",
       "    }\n",
       "\n",
       "    .dataframe thead th {\n",
       "        text-align: right;\n",
       "    }\n",
       "</style>\n",
       "<table border=\"1\" class=\"dataframe\">\n",
       "  <thead>\n",
       "    <tr style=\"text-align: right;\">\n",
       "      <th></th>\n",
       "      <th>AwayScore</th>\n",
       "      <th>HomeScore</th>\n",
       "      <th>GameEnded</th>\n",
       "      <th>AwayGoals</th>\n",
       "      <th>HomeGoals</th>\n",
       "    </tr>\n",
       "  </thead>\n",
       "  <tbody>\n",
       "    <tr>\n",
       "      <th>0</th>\n",
       "      <td>3</td>\n",
       "      <td>2</td>\n",
       "      <td>ShootOut</td>\n",
       "      <td>1341</td>\n",
       "      <td>788</td>\n",
       "    </tr>\n",
       "    <tr>\n",
       "      <th>1</th>\n",
       "      <td>2</td>\n",
       "      <td>3</td>\n",
       "      <td>Overtime</td>\n",
       "      <td>709</td>\n",
       "      <td>1030</td>\n",
       "    </tr>\n",
       "    <tr>\n",
       "      <th>2</th>\n",
       "      <td>3</td>\n",
       "      <td>2</td>\n",
       "      <td>Overtime</td>\n",
       "      <td>612</td>\n",
       "      <td>893</td>\n",
       "    </tr>\n",
       "    <tr>\n",
       "      <th>3</th>\n",
       "      <td>1</td>\n",
       "      <td>4</td>\n",
       "      <td>Normal</td>\n",
       "      <td>1264</td>\n",
       "      <td>1143</td>\n",
       "    </tr>\n",
       "    <tr>\n",
       "      <th>4</th>\n",
       "      <td>5</td>\n",
       "      <td>2</td>\n",
       "      <td>Normal</td>\n",
       "      <td>1111</td>\n",
       "      <td>995</td>\n",
       "    </tr>\n",
       "    <tr>\n",
       "      <th>5</th>\n",
       "      <td>6</td>\n",
       "      <td>5</td>\n",
       "      <td>Overtime</td>\n",
       "      <td>790</td>\n",
       "      <td>858</td>\n",
       "    </tr>\n",
       "  </tbody>\n",
       "</table>\n",
       "</div>"
      ],
      "text/plain": [
       "   AwayScore  HomeScore GameEnded  AwayGoals  HomeGoals\n",
       "0          3          2  ShootOut       1341        788\n",
       "1          2          3  Overtime        709       1030\n",
       "2          3          2  Overtime        612        893\n",
       "3          1          4    Normal       1264       1143\n",
       "4          5          2    Normal       1111        995\n",
       "5          6          5  Overtime        790        858"
      ]
     },
     "execution_count": 5,
     "metadata": {},
     "output_type": "execute_result"
    }
   ],
   "source": [
    "cnxn = pyodbc.connect(connectionString)\n",
    "df = pd.read_sql_query(\"SELECT G.GameID, G.AwayScore, G.HomeScore, G.GameEnded, D.AwayGoals, D.HomeGoals FROM dbo.TestCaseGameDetails D INNER JOIN dbo.VI_Game G ON D.GameID = G.GameID WHERE TestCaseID = 8\", con=cnxn)\n",
    "df.index\n",
    "df"
   ]
  },
  {
   "cell_type": "code",
   "execution_count": null,
   "id": "16b8622d",
   "metadata": {},
   "outputs": [],
   "source": []
  }
 ],
 "metadata": {
  "kernelspec": {
   "display_name": "Python 3 (ipykernel)",
   "language": "python",
   "name": "python3"
  },
  "language_info": {
   "codemirror_mode": {
    "name": "ipython",
    "version": 3
   },
   "file_extension": ".py",
   "mimetype": "text/x-python",
   "name": "python",
   "nbconvert_exporter": "python",
   "pygments_lexer": "ipython3",
   "version": "3.9.7"
  }
 },
 "nbformat": 4,
 "nbformat_minor": 5
}
